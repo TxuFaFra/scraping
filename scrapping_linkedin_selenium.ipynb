{
 "cells": [
  {
   "cell_type": "markdown",
   "id": "5182fba2-465b-4a17-8a56-005ba3333d18",
   "metadata": {},
   "source": [
    "# Scrapping linkedin\n",
    "Trying selenium to scrap linkedin."
   ]
  },
  {
   "cell_type": "code",
   "execution_count": 5,
   "id": "1af46d23-5fe9-4129-81b3-f3edeea0258e",
   "metadata": {},
   "outputs": [],
   "source": [
    "from selenium import webdriver\n",
    "import time\n",
    "import pandas as pd\n",
    "\n",
    "from selenium.webdriver.chrome.options import Options\n",
    "from selenium.webdriver.common.by import By"
   ]
  },
  {
   "cell_type": "code",
   "execution_count": 26,
   "id": "93bda000-7d95-4c77-9622-dfe568071efb",
   "metadata": {},
   "outputs": [],
   "source": [
    "def initialize_browser():\n",
    "    \n",
    "    # browser must be closed for it to work\n",
    "    \n",
    "    path_chromedriver = \"G:/Downloads/chromedriver.exe\"\n",
    "    path_profile = \"user-data-dir=C:\\\\Users\\\\Ruben\\\\AppData\\\\Local\\\\Google\\\\Chrome\\\\User Data\\\\Profile 2\"\n",
    "    url = \"https://www.linkedin.com/jobs/search?keywords=data%20scientist&location=germany&geoId=&trk=guest_homepage-basic_jobs-search-bar_search-submit&position=1&pageNum=0\"\n",
    "    \n",
    "    options = Options()\n",
    "    options.add_argument(path_profile)\n",
    "    browser = webdriver.Chrome(path_chromedriver, chrome_options=options)\n",
    "    \n",
    "    # no idea what we need to do this twice, potentially for aboiding sign in\n",
    "    for _ in range(2):\n",
    "        browser.get(url)\n",
    "    \n",
    "    return browser\n",
    "\n",
    "def expand_menu_window(browser, N=10):\n",
    "    \n",
    "    print(\"this can take a while...\")\n",
    "    i = 1\n",
    "    while i <= N:\n",
    "        browser.execute_script(\"window.scrollTo(0, document.body.scrollHeight);\")\n",
    "        i += 1\n",
    "        try:\n",
    "            browser.find_element_by_xpath(\"/html/body/div/div/main/section[2]/button\").click()\n",
    "            \n",
    "        except:\n",
    "            pass\n",
    "        time.sleep(2)\n",
    "        \n",
    "def get_list_of_jobs(browser):\n",
    "    \n",
    "    job_lists = browser.find_element_by_class_name(\"jobs-search__results-list\")\n",
    "    jobs = job_lists.find_elements_by_tag_name(\"li\")\n",
    "    return jobs\n",
    "\n",
    "def scrap_jobs(browser, job):\n",
    "    \n",
    "    for item, job in enumerate(jobs):\n",
    "    \n",
    "        # retrieve info in menu job\n",
    "        job_title = job.find_element_by_css_selector(\"h3\").get_attribute(\"innerText\")\n",
    "        company_name = job.find_element_by_css_selector(\"h4\").get_attribute(\"innerText\")\n",
    "        location = job.find_element_by_css_selector('[class=\"job-search-card__location\"]').get_attribute(\"innerText\")\n",
    "        submeta = job.find_element_by_css_selector(\"div.base-search-card__metadata\")     \n",
    "        listing = submeta.find_element_by_tag_name(\"time\")\n",
    "        listing_date = listing.get_attribute(\"datetime\")\n",
    "                    \n",
    "        job_link = job.find_element_by_css_selector(\"a\").get_attribute(\"href\")\n",
    "\n",
    "        # click on the selected job\n",
    "        job_click_path = f\"div/a\"\n",
    "        try:\n",
    "            job_click = job.find_element_by_xpath(job_click_path).click()\n",
    "            time.sleep(2)\n",
    "\n",
    "            # click on the selected show more\n",
    "            buttons = browser.find_elements(By.TAG_NAME , \"button\")\n",
    "            names = []\n",
    "            for name in buttons:\n",
    "                if name.text == \"Show more\":\n",
    "                    button = name\n",
    "            try:\n",
    "                button.click()\n",
    "            except:\n",
    "                print(\"Could not expand job description\")\n",
    "            time.sleep(2)\n",
    "\n",
    "            # retrieve job description\n",
    "            jb_path = \"div.show-more-less-html__markup\"\n",
    "            jb = browser.find_element_by_css_selector(jb_path).text   \n",
    "\n",
    "            # retrieve seniority\n",
    "            path_list = \"ul.description__job-criteria-list\"\n",
    "            more_el = browser.find_element_by_css_selector(path_list)\n",
    "            elements = more_el.find_elements_by_tag_name(\"span\")\n",
    "            if len(elements) == 4:\n",
    "                seniority = elements[0].text\n",
    "                employement_type = elements[1].text\n",
    "                job_function = elements[2].text\n",
    "                industries = elements[3].text\n",
    "            else:\n",
    "                seniority = \"\"\n",
    "                employement_type = \"\"\n",
    "                job_function = \"\"\n",
    "                industries = \"\"\n",
    "        except:\n",
    "            pass\n",
    "\n",
    "        yield job_title, company_name, location, job_link, listing_date, jb, seniority, employement_type, job_function, industries"
   ]
  },
  {
   "cell_type": "code",
   "execution_count": 11,
   "id": "b36353ba-36d9-41a9-b934-692b4aee350e",
   "metadata": {},
   "outputs": [
    {
     "name": "stderr",
     "output_type": "stream",
     "text": [
      "<ipython-input-10-4399fb030f28>:11: DeprecationWarning: use options instead of chrome_options\n",
      "  browser = webdriver.Chrome(path_chromedriver, chrome_options=options)\n"
     ]
    }
   ],
   "source": [
    "browser = initialize_browser()"
   ]
  },
  {
   "cell_type": "code",
   "execution_count": 16,
   "id": "f098f064-df22-4d1d-935b-daac66a18e02",
   "metadata": {},
   "outputs": [
    {
     "name": "stdout",
     "output_type": "stream",
     "text": [
      "this can take a while...\n"
     ]
    }
   ],
   "source": [
    "expand_menu_window(browser, N=5)"
   ]
  },
  {
   "cell_type": "code",
   "execution_count": 17,
   "id": "16108dbe-44ff-45b5-baf7-18e86200e98a",
   "metadata": {},
   "outputs": [
    {
     "name": "stdout",
     "output_type": "stream",
     "text": [
      "74\n"
     ]
    }
   ],
   "source": [
    "jobs = get_list_of_jobs(browser)\n",
    "print(len(jobs))"
   ]
  },
  {
   "cell_type": "code",
   "execution_count": 27,
   "id": "cff12ddf-8bdf-4315-81c0-ea8731f7100e",
   "metadata": {},
   "outputs": [
    {
     "name": "stdout",
     "output_type": "stream",
     "text": [
      "Could not expand job description\n"
     ]
    }
   ],
   "source": [
    "res = list(scrap_jobs(browser, jobs))"
   ]
  },
  {
   "cell_type": "code",
   "execution_count": 23,
   "id": "d9e3e2d3-d1ea-4628-b2ed-52f4edfac849",
   "metadata": {},
   "outputs": [],
   "source": [
    "data = pd.DataFrame(res)\n",
    "data.columns = [\"job_title\", \"company\", \"location\", \"link\", \"listing_date\", \"description\", \"seniority\", \"employment_type\", \"job_function\", \"industries\"]"
   ]
  },
  {
   "cell_type": "code",
   "execution_count": 25,
   "id": "f75f51fc-4ff4-4ebe-90e5-9d1a7b2ad354",
   "metadata": {},
   "outputs": [
    {
     "data": {
      "text/html": [
       "<div>\n",
       "<style scoped>\n",
       "    .dataframe tbody tr th:only-of-type {\n",
       "        vertical-align: middle;\n",
       "    }\n",
       "\n",
       "    .dataframe tbody tr th {\n",
       "        vertical-align: top;\n",
       "    }\n",
       "\n",
       "    .dataframe thead th {\n",
       "        text-align: right;\n",
       "    }\n",
       "</style>\n",
       "<table border=\"1\" class=\"dataframe\">\n",
       "  <thead>\n",
       "    <tr style=\"text-align: right;\">\n",
       "      <th></th>\n",
       "      <th>job_title</th>\n",
       "      <th>company</th>\n",
       "      <th>location</th>\n",
       "      <th>link</th>\n",
       "      <th>listing_date</th>\n",
       "      <th>description</th>\n",
       "      <th>seniority</th>\n",
       "      <th>employment_type</th>\n",
       "      <th>job_function</th>\n",
       "      <th>industries</th>\n",
       "    </tr>\n",
       "  </thead>\n",
       "  <tbody>\n",
       "    <tr>\n",
       "      <th>0</th>\n",
       "      <td>Data Scientist, International Analytics</td>\n",
       "      <td>DoorDash</td>\n",
       "      <td>Berlin, Berlin, Germany</td>\n",
       "      <td>https://de.linkedin.com/jobs/view/data-scienti...</td>\n",
       "      <td>23 hours ago</td>\n",
       "      <td>About The Role\\n\\nThe Analytics team is lookin...</td>\n",
       "      <td>Entry level</td>\n",
       "      <td>Internship</td>\n",
       "      <td>Engineering and Information Technology</td>\n",
       "      <td>Internet</td>\n",
       "    </tr>\n",
       "    <tr>\n",
       "      <th>1</th>\n",
       "      <td>Data Scientist (m/f/d)</td>\n",
       "      <td>adidas</td>\n",
       "      <td>Herzogenaurach, Bavaria, Germany</td>\n",
       "      <td>https://de.linkedin.com/jobs/view/data-scienti...</td>\n",
       "      <td>4 weeks ago</td>\n",
       "      <td>General Purpose\\nAs Data Scientist you support...</td>\n",
       "      <td>Not Applicable</td>\n",
       "      <td>Full-time</td>\n",
       "      <td>Advertising, Art/Creative, and Marketing</td>\n",
       "      <td>Consumer Goods, Retail, and Sporting Goods</td>\n",
       "    </tr>\n",
       "    <tr>\n",
       "      <th>2</th>\n",
       "      <td>Data Scientist, Business Operations</td>\n",
       "      <td>DoorDash</td>\n",
       "      <td>Berlin, Berlin, Germany</td>\n",
       "      <td>https://de.linkedin.com/jobs/view/data-scienti...</td>\n",
       "      <td>2 days ago</td>\n",
       "      <td>The Business Operations Analytics team drives ...</td>\n",
       "      <td>Entry level</td>\n",
       "      <td>Full-time</td>\n",
       "      <td>Engineering and Information Technology</td>\n",
       "      <td>Internet</td>\n",
       "    </tr>\n",
       "    <tr>\n",
       "      <th>3</th>\n",
       "      <td>Data Scientist (m/f/d)</td>\n",
       "      <td>adidas</td>\n",
       "      <td>Herzogenaurach, Bavaria, Germany</td>\n",
       "      <td>https://de.linkedin.com/jobs/view/data-scienti...</td>\n",
       "      <td>2 weeks ago</td>\n",
       "      <td>Purpose &amp; Overall Relevance For The Organizati...</td>\n",
       "      <td>Not Applicable</td>\n",
       "      <td>Full-time</td>\n",
       "      <td>Engineering and Information Technology</td>\n",
       "      <td>Consumer Goods, Retail, and Sporting Goods</td>\n",
       "    </tr>\n",
       "    <tr>\n",
       "      <th>4</th>\n",
       "      <td>Data Scientist (m/w/d)</td>\n",
       "      <td>Temedica</td>\n",
       "      <td>Munich, Bavaria, Germany</td>\n",
       "      <td>https://de.linkedin.com/jobs/view/data-scienti...</td>\n",
       "      <td>10 hours ago</td>\n",
       "      <td>Read Job Description In\\n\\nEinleitung\\n\\nEin T...</td>\n",
       "      <td>Entry level</td>\n",
       "      <td>Full-time</td>\n",
       "      <td>Engineering and Information Technology</td>\n",
       "      <td>Marketing and Advertising, Information Technol...</td>\n",
       "    </tr>\n",
       "  </tbody>\n",
       "</table>\n",
       "</div>"
      ],
      "text/plain": [
       "                                 job_title   company  \\\n",
       "0  Data Scientist, International Analytics  DoorDash   \n",
       "1                   Data Scientist (m/f/d)    adidas   \n",
       "2      Data Scientist, Business Operations  DoorDash   \n",
       "3                   Data Scientist (m/f/d)    adidas   \n",
       "4                   Data Scientist (m/w/d)  Temedica   \n",
       "\n",
       "                           location  \\\n",
       "0           Berlin, Berlin, Germany   \n",
       "1  Herzogenaurach, Bavaria, Germany   \n",
       "2           Berlin, Berlin, Germany   \n",
       "3  Herzogenaurach, Bavaria, Germany   \n",
       "4          Munich, Bavaria, Germany   \n",
       "\n",
       "                                                link   listing_date  \\\n",
       "0  https://de.linkedin.com/jobs/view/data-scienti...  23 hours ago    \n",
       "1  https://de.linkedin.com/jobs/view/data-scienti...    4 weeks ago   \n",
       "2  https://de.linkedin.com/jobs/view/data-scienti...    2 days ago    \n",
       "3  https://de.linkedin.com/jobs/view/data-scienti...    2 weeks ago   \n",
       "4  https://de.linkedin.com/jobs/view/data-scienti...  10 hours ago    \n",
       "\n",
       "                                         description       seniority  \\\n",
       "0  About The Role\\n\\nThe Analytics team is lookin...     Entry level   \n",
       "1  General Purpose\\nAs Data Scientist you support...  Not Applicable   \n",
       "2  The Business Operations Analytics team drives ...     Entry level   \n",
       "3  Purpose & Overall Relevance For The Organizati...  Not Applicable   \n",
       "4  Read Job Description In\\n\\nEinleitung\\n\\nEin T...     Entry level   \n",
       "\n",
       "  employment_type                              job_function  \\\n",
       "0      Internship    Engineering and Information Technology   \n",
       "1       Full-time  Advertising, Art/Creative, and Marketing   \n",
       "2       Full-time    Engineering and Information Technology   \n",
       "3       Full-time    Engineering and Information Technology   \n",
       "4       Full-time    Engineering and Information Technology   \n",
       "\n",
       "                                          industries  \n",
       "0                                           Internet  \n",
       "1         Consumer Goods, Retail, and Sporting Goods  \n",
       "2                                           Internet  \n",
       "3         Consumer Goods, Retail, and Sporting Goods  \n",
       "4  Marketing and Advertising, Information Technol...  "
      ]
     },
     "execution_count": 25,
     "metadata": {},
     "output_type": "execute_result"
    }
   ],
   "source": [
    "data.head()"
   ]
  },
  {
   "cell_type": "code",
   "execution_count": 24,
   "id": "64cb191f-b9ed-494d-816a-3eaf3247ed72",
   "metadata": {},
   "outputs": [],
   "source": [
    "data.to_excel(\"scrap_DS_2.xlsx\")"
   ]
  }
 ],
 "metadata": {
  "kernelspec": {
   "display_name": "Python 3",
   "language": "python",
   "name": "python3"
  },
  "language_info": {
   "codemirror_mode": {
    "name": "ipython",
    "version": 3
   },
   "file_extension": ".py",
   "mimetype": "text/x-python",
   "name": "python",
   "nbconvert_exporter": "python",
   "pygments_lexer": "ipython3",
   "version": "3.8.8"
  }
 },
 "nbformat": 4,
 "nbformat_minor": 5
}
